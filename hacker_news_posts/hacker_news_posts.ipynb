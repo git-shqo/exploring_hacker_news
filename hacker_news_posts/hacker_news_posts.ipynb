{
 "cells": [
  {
   "cell_type": "markdown",
   "id": "ddf557b5-2154-46b3-bbc3-93a0fce2ad59",
   "metadata": {},
   "source": [
    "# Guided Project: Exploring Hacker News Posts\n",
    "\n",
    "## Introduction\n",
    "Hello everyone! This is my second guided project where we will explore Hacker News posts. It is a community similar to Reddit where people publish posts, and get reactions in the form of comments and upvotes/downvotes. One of the website's features is that by using the keywords `Ask HN` and `Show HN` users can directly ask questions to the Hacker News community or send answers to the given questions. "
   ]
  },
  {
   "cell_type": "markdown",
   "id": "631c3eb6-5d97-41c3-accb-82df8b1c7174",
   "metadata": {},
   "source": [
    "## The aim\n",
    "The main goal will be to realize whether the keywords above receive more activity on average, and does the time of the day affect the number of comments received on a post on average."
   ]
  },
  {
   "cell_type": "code",
   "execution_count": 35,
   "id": "24361377-9c24-4f81-a9f4-427dd6141508",
   "metadata": {},
   "outputs": [
    {
     "name": "stdout",
     "output_type": "stream",
     "text": [
      "['id', 'title', 'url', 'num_points', 'num_comments', 'author', 'created_at']\n",
      "\n",
      "['12224879', 'Interactive Dynamic Video', 'http://www.interactivedynamicvideo.com/', '386', '52', 'ne0phyte', '8/4/2016 11:52']\n",
      "\n",
      "['10975351', 'How to Use Open Source and Shut the Fuck Up at the Same Time', 'http://hueniverse.com/2016/01/26/how-to-use-open-source-and-shut-the-fuck-up-at-the-same-time/', '39', '10', 'josep2', '1/26/2016 19:30']\n",
      "\n",
      "['11964716', \"Florida DJs May Face Felony for April Fools' Water Joke\", 'http://www.thewire.com/entertainment/2013/04/florida-djs-april-fools-water-joke/63798/', '2', '1', 'vezycash', '6/23/2016 22:20']\n",
      "\n",
      "['11919867', 'Technology ventures: From Idea to Enterprise', 'https://www.amazon.com/Technology-Ventures-Enterprise-Thomas-Byers/dp/0073523429', '3', '1', 'hswarna', '6/17/2016 0:01']\n",
      "\n"
     ]
    }
   ],
   "source": [
    "import csv\n",
    "\n",
    "# Reading the file\n",
    "with open(\"hacker_news.csv\") as opened_file:\n",
    "    hn = list(csv.reader(opened_file))\n",
    "\n",
    "# Printing the first few rows\n",
    "for row in hn[:5]:\n",
    "    print(row, end=\"\\n\\n\")"
   ]
  },
  {
   "cell_type": "markdown",
   "id": "9dcf15ea-8fc8-469e-babd-07160523ca82",
   "metadata": {},
   "source": [
    "## Removing the header\n",
    "The following code block illustrates the first five rows of our dataset excluding the header row."
   ]
  },
  {
   "cell_type": "code",
   "execution_count": 36,
   "id": "8927e125-b9ed-4ec6-9c32-900df108042c",
   "metadata": {},
   "outputs": [
    {
     "name": "stdout",
     "output_type": "stream",
     "text": [
      "['id', 'title', 'url', 'num_points', 'num_comments', 'author', 'created_at']\n",
      "['12224879', 'Interactive Dynamic Video', 'http://www.interactivedynamicvideo.com/', '386', '52', 'ne0phyte', '8/4/2016 11:52']\n",
      "\n",
      "['10975351', 'How to Use Open Source and Shut the Fuck Up at the Same Time', 'http://hueniverse.com/2016/01/26/how-to-use-open-source-and-shut-the-fuck-up-at-the-same-time/', '39', '10', 'josep2', '1/26/2016 19:30']\n",
      "\n",
      "['11964716', \"Florida DJs May Face Felony for April Fools' Water Joke\", 'http://www.thewire.com/entertainment/2013/04/florida-djs-april-fools-water-joke/63798/', '2', '1', 'vezycash', '6/23/2016 22:20']\n",
      "\n",
      "['11919867', 'Technology ventures: From Idea to Enterprise', 'https://www.amazon.com/Technology-Ventures-Enterprise-Thomas-Byers/dp/0073523429', '3', '1', 'hswarna', '6/17/2016 0:01']\n",
      "\n",
      "['10301696', 'Note by Note: The Making of Steinway L1037 (2007)', 'http://www.nytimes.com/2007/11/07/movies/07stein.html?_r=0', '8', '2', 'walterbell', '9/30/2015 4:12']\n",
      "\n"
     ]
    }
   ],
   "source": [
    "# Removing the first row \n",
    "headers = hn[0]\n",
    "hn = hn[1:]\n",
    "print(headers)\n",
    "\n",
    "# Printing the first 5 rows\n",
    "for row in hn[:5]:\n",
    "    print(row, end=\"\\n\\n\")"
   ]
  },
  {
   "cell_type": "markdown",
   "id": "86ce5c9d-b16b-441a-8fb3-8c1e1f138e15",
   "metadata": {},
   "source": [
    "## Extracting Ask HN and Show HN Posts\r",
    "Below, we are filtering our data into three categories: `Ask HN`, `Show HN` and others. \n"
   ]
  },
  {
   "cell_type": "code",
   "execution_count": 37,
   "id": "6a4a8ebe-d1eb-43ea-b697-098c56ad5381",
   "metadata": {},
   "outputs": [
    {
     "name": "stdout",
     "output_type": "stream",
     "text": [
      "1744\n",
      "1162\n",
      "17194\n"
     ]
    }
   ],
   "source": [
    "# Setting the empty lists\n",
    "ask_posts = []\n",
    "show_posts = []\n",
    "other_posts = []\n",
    "\n",
    "# Filtering into three types of posts\n",
    "for row in hn:\n",
    "    title = row[1]\n",
    "    if title.lower().startswith(\"ask hn\"):\n",
    "        ask_posts.append(row)\n",
    "    elif title.lower().startswith(\"show hn\"):\n",
    "        show_posts.append(row)\n",
    "    else:\n",
    "        other_posts.append(row)\n",
    "\n",
    "# Checking the number of each type of post\n",
    "print(len(ask_posts), len(show_posts), len(other_posts), sep=\"\\n\")"
   ]
  },
  {
   "cell_type": "markdown",
   "id": "aaca1134-70c3-41f4-bd42-ae5f952e93ce",
   "metadata": {},
   "source": [
    "## Number of comments for Ask HN and Show HN Posts on average\n",
    "We calculate which type of the post among the first two receive the most comments on average."
   ]
  },
  {
   "cell_type": "code",
   "execution_count": 38,
   "id": "4c087feb-e466-49ab-b4a0-4b320c4bc722",
   "metadata": {},
   "outputs": [
    {
     "name": "stdout",
     "output_type": "stream",
     "text": [
      "On average, Ask HN posts receive 14 comments\n",
      "On average, Show HN posts receive 10 comments\n"
     ]
    }
   ],
   "source": [
    "# Setting the total number of comments for Ask HN posts\n",
    "total_ask_comments = 0\n",
    "for row in ask_posts:\n",
    "    comments = int(row[4])\n",
    "    total_ask_comments += comments\n",
    "\n",
    "# Computing the average \n",
    "avg_ask_comments = total_ask_comments / len(ask_posts)\n",
    "print(f\"On average, Ask HN posts receive {round(avg_ask_comments)} comments\")\n",
    "\n",
    "# Setting the total number of comments for Show HN posts\n",
    "total_show_comments = 0\n",
    "for row in show_posts:\n",
    "    comments = int(row[4])\n",
    "    total_show_comments += comments\n",
    "\n",
    "# Computing the average \n",
    "avg_show_comments = total_show_comments / len(show_posts)\n",
    "print(f\"On average, Show HN posts receive {round(avg_show_comments)} comments\")"
   ]
  },
  {
   "cell_type": "markdown",
   "id": "1302b4b7-a9c5-4206-963e-24780c775184",
   "metadata": {},
   "source": [
    "## Finding the number of Ask HN comments based on the hour created\n",
    "We have already found that `Ask HN` posts receive more comments than `Show HN` posts on average. As a result, we will focus on the former and find at what time of the day `Ask HN` gets the most comments."
   ]
  },
  {
   "cell_type": "code",
   "execution_count": 39,
   "id": "7f8c9876-bb43-42f9-8684-a657ec4d8197",
   "metadata": {},
   "outputs": [
    {
     "name": "stdout",
     "output_type": "stream",
     "text": [
      "{'09': 45, '13': 85, '10': 59, '14': 107, '16': 108, '23': 68, '12': 73, '17': 100, '15': 116, '21': 109, '20': 80, '02': 58, '18': 109, '03': 54, '05': 46, '19': 110, '01': 60, '22': 71, '08': 48, '04': 47, '00': 55, '06': 44, '07': 34, '11': 58}\n",
      "\n",
      "{'09': 251, '13': 1253, '10': 793, '14': 1416, '16': 1814, '23': 543, '12': 687, '17': 1146, '15': 4477, '21': 1745, '20': 1722, '02': 1381, '18': 1439, '03': 421, '05': 464, '19': 1188, '01': 683, '22': 479, '08': 492, '04': 337, '00': 447, '06': 397, '07': 267, '11': 641}\n"
     ]
    }
   ],
   "source": [
    "import datetime as dt\n",
    "\n",
    "# Creating a list consisting of two items\n",
    "result_list = []\n",
    "for row in ask_posts:\n",
    "    time = row[6]\n",
    "    comments = int(row[4])\n",
    "    temp_list = [time, comments]\n",
    "    result_list.append(temp_list)\n",
    "\n",
    "# Setting empty dictionaries\n",
    "counts_by_hour = {}\n",
    "comments_by_hour = {}\n",
    "\n",
    "# Counting the comments in each hour of a day\n",
    "for row in result_list:\n",
    "    hour = row[0]\n",
    "    date_hour_object = dt.datetime.strptime(hour, \"%m/%d/%Y %H:%M\")\n",
    "    select_hour = date_hour_object.strftime(\"%H\")\n",
    "    if select_hour not in counts_by_hour:\n",
    "        counts_by_hour[select_hour] = 1\n",
    "        comments_by_hour[select_hour] = row[1]\n",
    "    else:\n",
    "        counts_by_hour[select_hour] += 1\n",
    "        comments_by_hour[select_hour] += row[1]\n",
    "        \n",
    "# Showing the results\n",
    "print(counts_by_hour, comments_by_hour, sep=\"\\n\\n\")    "
   ]
  },
  {
   "cell_type": "markdown",
   "id": "9d973196-9ce1-4a92-a96f-b21d601ce33f",
   "metadata": {},
   "source": [
    "Here we find the average number of Ask HN comments in each hour."
   ]
  },
  {
   "cell_type": "code",
   "execution_count": 40,
   "id": "1b72696e-81a7-4cbd-8b70-1749239951af",
   "metadata": {},
   "outputs": [
    {
     "name": "stdout",
     "output_type": "stream",
     "text": [
      "['09', 5.58]\n",
      "['13', 14.74]\n",
      "['10', 13.44]\n",
      "['14', 13.23]\n",
      "['16', 16.8]\n",
      "['23', 7.99]\n",
      "['12', 9.41]\n",
      "['17', 11.46]\n",
      "['15', 38.59]\n",
      "['21', 16.01]\n",
      "['20', 21.52]\n",
      "['02', 23.81]\n",
      "['18', 13.2]\n",
      "['03', 7.8]\n",
      "['05', 10.09]\n",
      "['19', 10.8]\n",
      "['01', 11.38]\n",
      "['22', 6.75]\n",
      "['08', 10.25]\n",
      "['04', 7.17]\n",
      "['00', 8.13]\n",
      "['06', 9.02]\n",
      "['07', 7.85]\n",
      "['11', 11.05]\n"
     ]
    }
   ],
   "source": [
    "# Setting an empty list\n",
    "avg_by_hour = []\n",
    "\n",
    "# Calculating the average\n",
    "comments_keys = list(comments_by_hour.keys())\n",
    "for key in comments_keys:\n",
    "    for el in comments_by_hour:\n",
    "        temp_list = [key, round(comments_by_hour[key] / counts_by_hour[key], 2)]\n",
    "    avg_by_hour.append(temp_list)\n",
    "\n",
    "# Showing the results\n",
    "for i in avg_by_hour:\n",
    "    print(i)"
   ]
  },
  {
   "cell_type": "markdown",
   "id": "8a2e3c64-4689-4321-82f3-a256b181e337",
   "metadata": {},
   "source": [
    "## Top 5 hours to create an Ask HN post \n",
    "Lastly, we find the most suitable timeslots to create `Ask HN` posts to be likely to get as many comments as possible."
   ]
  },
  {
   "cell_type": "code",
   "execution_count": 41,
   "id": "6f094c7f-98d0-4a46-b89a-3fb994ccca61",
   "metadata": {},
   "outputs": [
    {
     "name": "stdout",
     "output_type": "stream",
     "text": [
      "Top 5 Hours for Ask Posts Comments\n",
      "21:00 (CET): 38.59 average comments per post\n",
      "08:00 (CET): 23.81 average comments per post\n",
      "02:00 (CET): 21.52 average comments per post\n",
      "22:00 (CET): 16.8 average comments per post\n",
      "03:00 (CET): 16.01 average comments per post\n"
     ]
    }
   ],
   "source": [
    "# Creating a swapped list\n",
    "swap_avg_by_hour = []\n",
    "for cell in avg_by_hour:\n",
    "    swap_avg_by_hour.append([cell[1], cell[0]])\n",
    "\n",
    "# Sorting the list\n",
    "sorted_swap = sorted(swap_avg_by_hour, reverse=True)\n",
    "\n",
    "# Printing the results\n",
    "print(\"Top 5 Hours for Ask Posts Comments\")\n",
    "for el in sorted_swap[:5]:\n",
    "    original_time = dt.datetime.strptime(el[1], \"%H\")\n",
    "    updated_time_be = original_time + dt.timedelta(hours=6)\n",
    "    updated_time_be = updated_time_be.strftime(\"%H:%M\")\n",
    "    print(f\"{updated_time_be} (CET): {el[0]} average comments per post\")"
   ]
  },
  {
   "cell_type": "markdown",
   "id": "32bbca62-44e0-4f15-99c7-b401ea4b14ad",
   "metadata": {},
   "source": [
    "## Conclusion\n",
    "In this project we have analysed data retrieved from `Hacker News` online platform where we have found out that `Ask HN` posts receive more comments on average. In addition, we have calculated the best time to create such posts. The times are presented according to the Central European Timezone (UTC+01:00)."
   ]
  }
 ],
 "metadata": {
  "kernelspec": {
   "display_name": "Python 3",
   "language": "python",
   "name": "python3"
  },
  "language_info": {
   "codemirror_mode": {
    "name": "ipython",
    "version": 3
   },
   "file_extension": ".py",
   "mimetype": "text/x-python",
   "name": "python",
   "nbconvert_exporter": "python",
   "pygments_lexer": "ipython3",
   "version": "3.11.4"
  }
 },
 "nbformat": 4,
 "nbformat_minor": 5
}
